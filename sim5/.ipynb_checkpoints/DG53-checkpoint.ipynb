{
 "cells": [
  {
   "cell_type": "code",
   "execution_count": 1,
   "id": "280f2d4c-a78f-4a65-9233-9b8edb126931",
   "metadata": {},
   "outputs": [],
   "source": [
    "import pandas as pd\n",
    "import pandahouse as ph\n",
    "import seaborn as sns\n",
    "import numpy as np\n",
    "import scipy.stats as stats"
   ]
  },
  {
   "cell_type": "code",
   "execution_count": 16,
   "id": "ec86541c-9b20-4a06-bf5f-a801fcf9cf7b",
   "metadata": {},
   "outputs": [],
   "source": [
    "def get_linear_likes(user_likes, user_views, ctr_control):\n",
    "    linear_likes = user_likes - ctr_control*user_views\n",
    "    return linear_likes"
   ]
  },
  {
   "cell_type": "code",
   "execution_count": 31,
   "id": "203c9f03-c363-4782-8ad0-86cb02681cc6",
   "metadata": {},
   "outputs": [],
   "source": [
    "control_group = 0\n",
    "test_group = 3"
   ]
  },
  {
   "cell_type": "code",
   "execution_count": 32,
   "id": "7822ff8a-e9a7-4e19-b302-14c275ccfa46",
   "metadata": {},
   "outputs": [],
   "source": [
    "def get_datafrom_db( group1_str, group2_str):\n",
    "    connection = {\n",
    "        'host': 'https://clickhouse.lab.karpov.courses',\n",
    "        'password': 'dpo_python_2020',\n",
    "        'user': 'student',\n",
    "        'database': 'simulator_20230120'\n",
    "    }\n",
    "\n",
    "    q = \"\"\"\n",
    "    SELECT exp_group, \n",
    "        user_id,\n",
    "        sum(action = 'like') as likes,\n",
    "        sum(action = 'view') as views,\n",
    "        likes/views as ctr\n",
    "\n",
    "    FROM simulator_20230120.feed_actions\n",
    "    WHERE toDate(time) between '2023-01-01' and '2023-01-07'\n",
    "        and exp_group in ({group1},{group2})\n",
    "    GROUP BY exp_group, user_id\"\"\".format(group1 = group1_str, group2 = group2_str)\n",
    "\n",
    "    # Вытащили пользователей\n",
    "    return ph.read_clickhouse(q, connection=connection)"
   ]
  },
  {
   "cell_type": "code",
   "execution_count": 71,
   "id": "02ed73f7-e2d9-44b5-b1f8-9a7d6ad146f5",
   "metadata": {},
   "outputs": [
    {
     "data": {
      "text/html": [
       "<div>\n",
       "<style scoped>\n",
       "    .dataframe tbody tr th:only-of-type {\n",
       "        vertical-align: middle;\n",
       "    }\n",
       "\n",
       "    .dataframe tbody tr th {\n",
       "        vertical-align: top;\n",
       "    }\n",
       "\n",
       "    .dataframe thead th {\n",
       "        text-align: right;\n",
       "    }\n",
       "</style>\n",
       "<table border=\"1\" class=\"dataframe\">\n",
       "  <thead>\n",
       "    <tr style=\"text-align: right;\">\n",
       "      <th></th>\n",
       "      <th>exp_group</th>\n",
       "      <th>user_id</th>\n",
       "      <th>likes</th>\n",
       "      <th>views</th>\n",
       "      <th>ctr</th>\n",
       "    </tr>\n",
       "  </thead>\n",
       "  <tbody>\n",
       "    <tr>\n",
       "      <th>0</th>\n",
       "      <td>3</td>\n",
       "      <td>115383</td>\n",
       "      <td>9</td>\n",
       "      <td>30</td>\n",
       "      <td>0.300000</td>\n",
       "    </tr>\n",
       "    <tr>\n",
       "      <th>1</th>\n",
       "      <td>3</td>\n",
       "      <td>123580</td>\n",
       "      <td>13</td>\n",
       "      <td>48</td>\n",
       "      <td>0.270833</td>\n",
       "    </tr>\n",
       "    <tr>\n",
       "      <th>2</th>\n",
       "      <td>0</td>\n",
       "      <td>4944</td>\n",
       "      <td>8</td>\n",
       "      <td>41</td>\n",
       "      <td>0.195122</td>\n",
       "    </tr>\n",
       "    <tr>\n",
       "      <th>3</th>\n",
       "      <td>0</td>\n",
       "      <td>4504</td>\n",
       "      <td>5</td>\n",
       "      <td>15</td>\n",
       "      <td>0.333333</td>\n",
       "    </tr>\n",
       "    <tr>\n",
       "      <th>4</th>\n",
       "      <td>0</td>\n",
       "      <td>121508</td>\n",
       "      <td>18</td>\n",
       "      <td>88</td>\n",
       "      <td>0.204545</td>\n",
       "    </tr>\n",
       "  </tbody>\n",
       "</table>\n",
       "</div>"
      ],
      "text/plain": [
       "   exp_group  user_id  likes  views       ctr\n",
       "0          3   115383      9     30  0.300000\n",
       "1          3   123580     13     48  0.270833\n",
       "2          0     4944      8     41  0.195122\n",
       "3          0     4504      5     15  0.333333\n",
       "4          0   121508     18     88  0.204545"
      ]
     },
     "execution_count": 71,
     "metadata": {},
     "output_type": "execute_result"
    }
   ],
   "source": [
    "\n",
    "df_l.head()"
   ]
  },
  {
   "cell_type": "code",
   "execution_count": 103,
   "id": "725c903b-3819-4d14-81e0-de58d5e155bf",
   "metadata": {},
   "outputs": [
    {
     "data": {
      "text/plain": [
       "Ttest_indResult(statistic=0.7094392041270485, pvalue=0.4780623130874935)"
      ]
     },
     "execution_count": 103,
     "metadata": {},
     "output_type": "execute_result"
    }
   ],
   "source": [
    "control_group = 1\n",
    "test_group = 2\n",
    "\n",
    "df_l = get_datafrom_db(control_group,test_group)\n",
    "stats.ttest_ind(df_l[df_l.exp_group == control_group].ctr,\n",
    "                    df_l[df_l.exp_group == test_group].ctr,\n",
    "                    alternative='two-sided',\n",
    "                    equal_var=False)\n"
   ]
  },
  {
   "cell_type": "code",
   "execution_count": 98,
   "id": "339cc51d-2c2e-4d1f-96b7-f36f380c5fc9",
   "metadata": {},
   "outputs": [],
   "source": [
    "def ctr_plot(user_param):\n",
    "    # Сделаем графики в seaborn покрупнее\n",
    "    sns.set(rc={'figure.figsize':(11.7,8.27)})\n",
    "\n",
    "    groups = sns.histplot(data = user_param, \n",
    "                  x='ctr', \n",
    "                  hue='exp_group', \n",
    "                  palette = ['r', 'b'],\n",
    "                  alpha=0.5,\n",
    "                  kde=False)\n",
    "#ctr_plot(user_df)"
   ]
  },
  {
   "cell_type": "code",
   "execution_count": 107,
   "id": "11fcef27-46b4-4dbf-a6a9-c679cfe08180",
   "metadata": {},
   "outputs": [],
   "source": [
    "def linearized_likes_runnig(control_group, test_group):\n",
    "    print(\"тест групп\",control_group, test_group)\n",
    "    user_df_tmp = get_datafrom_db( control_group, test_group)\n",
    "    ctr_plot(user_df_tmp)\n",
    "    \n",
    "    stat, pvalue = stats.ttest_ind(user_df_tmp[user_df_tmp.exp_group == control_group].ctr,\n",
    "                                   user_df_tmp[user_df_tmp.exp_group == test_group].ctr,\n",
    "                                   alternative='two-sided',\n",
    "                                   equal_var=False)\n",
    "    print(\"t-тест между группами {} и {} по ctr\".format(control_group, test_group), stat, pvalue)\n",
    "    \n",
    "    \n",
    "    # Считаем общий CTR в контрольной группе\n",
    "    ctr_control = user_df_tmp[user_df_tmp.exp_group == control_group].likes.sum()/user_df_tmp[user_df_tmp.exp_group == control_group].views.sum()\n",
    "    \n",
    "    #Посчитаем в обеих группах поюзерную метрику  𝑙𝑖𝑛𝑒𝑎𝑟𝑖𝑧𝑒𝑑_𝑙𝑖𝑘𝑒𝑠=𝑙𝑖𝑘𝑒𝑠−𝐶𝑇𝑅𝑐𝑜𝑛𝑡𝑟𝑜𝑙∗𝑣𝑖𝑒𝑤𝑠\n",
    "    group_control = user_df_tmp[user_df_tmp.exp_group == control_group].copy()\n",
    "    group_control['linear_likes'] = user_df_tmp.apply(lambda x: get_linear_likes(x['likes'], x['views'], ctr_control), axis=1)\n",
    "\n",
    "    group_test = user_df_tmp[user_df_tmp.exp_group == test_group].copy()\n",
    "    group_test['linear_likes'] = user_df_tmp.apply(lambda x: get_linear_likes(x['likes'], x['views'], ctr_control), axis=1)\n",
    "    \n",
    "    stat, pvalue = stats.ttest_ind(group_control.linear_likes,\n",
    "                                   group_test.linear_likes,\n",
    "                                   alternative='two-sided',\n",
    "                                   equal_var=False)\n",
    "    print(\"анализ тестa между группами {} и {} по метрике линеаризованных лайков\".format(control_group, test_group) ,stat, pvalue)"
   ]
  },
  {
   "cell_type": "code",
   "execution_count": 108,
   "id": "7b728452-b5d6-40a2-b734-1b5ced058ec3",
   "metadata": {},
   "outputs": [
    {
     "name": "stdout",
     "output_type": "stream",
     "text": [
      "тест групп 0 3\n",
      "t-тест между группами 0 и 3 по ctr -13.896870721904069 1.055849414662529e-43\n",
      "анализ тестa между группами 0 и 3 по метрике линеаризованных лайков -15.214995460903827 5.4914249479690016e-52\n"
     ]
    },
    {
     "data": {
      "image/png": "[encoded data removed]",
      "text/plain": [
       "<Figure size 842.4x595.44 with 1 Axes>"
      ]
     },
     "metadata": {},
     "output_type": "display_data"
    }
   ],
   "source": [
    "control_group = 0\n",
    "test_group = 3\n",
    "\n",
    "linearized_likes_runnig(control_group, test_group)"
   ]
  },
  {
   "cell_type": "code",
   "execution_count": 109,
   "id": "be133e46-1a14-4929-9219-ea220c7446ad",
   "metadata": {},
   "outputs": [
    {
     "name": "stdout",
     "output_type": "stream",
     "text": [
      "тест групп 1 2\n",
      "t-тест между группами 1 и 2 по ctr 0.7094392041270486 0.4780623130874935\n",
      "анализ тестa между группами 1 и 2 по метрике линеаризованных лайков 6.122579994775972 9.439432187037712e-10\n"
     ]
    },
    {
     "data": {
      "image/png": "[encoded data removed]",
      "text/plain": [
       "<Figure size 842.4x595.44 with 1 Axes>"
      ]
     },
     "metadata": {},
     "output_type": "display_data"
    }
   ],
   "source": [
    "control_group = 1\n",
    "test_group = 2\n",
    "\n",
    "linearized_likes_runnig(control_group, test_group)"
   ]
  },
  {
   "cell_type": "markdown",
   "id": "f506801d-a137-4e22-add8-76992188dc00",
   "metadata": {},
   "source": [
    "на глаз две выборки  отличаются на глаз, и теперь с линейным тестом мы получили что они статистически отличаются"
   ]
  }
 ],
 "metadata": {
  "kernelspec": {
   "display_name": "Python 3 (ipykernel)",
   "language": "python",
   "name": "python3"
  },
  "language_info": {
   "codemirror_mode": {
    "name": "ipython",
    "version": 3
   },
   "file_extension": ".py",
   "mimetype": "text/x-python",
   "name": "python",
   "nbconvert_exporter": "python",
   "pygments_lexer": "ipython3",
   "version": "3.8.10"
  }
 },
 "nbformat": 4,
 "nbformat_minor": 5
}
