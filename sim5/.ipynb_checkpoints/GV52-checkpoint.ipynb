{
 "cells": [
  {
   "cell_type": "code",
   "execution_count": 33,
   "id": "19058ab7-1ac9-4b29-8814-977ac64f7896",
   "metadata": {},
   "outputs": [],
   "source": [
    "import pandas as pd\n",
    "import pandahouse as ph\n",
    "import seaborn as sns\n",
    "import numpy as np"
   ]
  },
  {
   "cell_type": "code",
   "execution_count": 54,
   "id": "41976445-790b-4dcd-a800-c819fd2c4a07",
   "metadata": {},
   "outputs": [],
   "source": [
    "connection = {\n",
    "    'host': 'https://clickhouse.lab.karpov.courses',\n",
    "    'password': 'dpo_python_2020',\n",
    "    'user': 'student',\n",
    "    'database': 'simulator_20230120'\n",
    "}\n",
    "\n",
    "q = \"\"\"\n",
    "SELECT exp_group, \n",
    "    user_id,\n",
    "    sum(action = 'like') as likes,\n",
    "    sum(action = 'view') as views,\n",
    "    likes/views as ctr\n",
    "\n",
    "FROM simulator_20230120.feed_actions\n",
    "WHERE toDate(time) between '2023-01-01' and '2023-01-07'\n",
    "    and exp_group in (1,2)\n",
    "GROUP BY exp_group, user_id\"\"\"\n",
    "\n",
    "# Вытащили пользователей\n",
    "users_df = ph.read_clickhouse(q, connection=connection)\n"
   ]
  },
  {
   "cell_type": "code",
   "execution_count": 55,
   "id": "660e0075-e193-49f3-b429-6b4902b2a87b",
   "metadata": {},
   "outputs": [
    {
     "data": {
      "image/png": "[encoded data removed]",
      "text/plain": [
       "<Figure size 842.4x595.44 with 1 Axes>"
      ]
     },
     "metadata": {},
     "output_type": "display_data"
    }
   ],
   "source": [
    "# Сделаем графики в seaborn покрупнее\n",
    "sns.set(rc={'figure.figsize':(11.7,8.27)})\n",
    "\n",
    "groups = sns.histplot(data = users_df, \n",
    "              x='ctr', \n",
    "              hue='exp_group', \n",
    "              palette = ['r', 'b'],\n",
    "              alpha=0.5,\n",
    "              kde=False)"
   ]
  },
  {
   "cell_type": "markdown",
   "id": "ce24533c-11a8-4813-a2eb-e354151b1529",
   "metadata": {},
   "source": [
    "## t-test"
   ]
  },
  {
   "cell_type": "code",
   "execution_count": 56,
   "id": "9d322919-a9f7-4519-b71a-f2cb4f62b338",
   "metadata": {},
   "outputs": [
    {
     "name": "stdout",
     "output_type": "stream",
     "text": [
      "0.7094392041270486 0.4780623130874935\n"
     ]
    }
   ],
   "source": [
    "import scipy.stats as stats\n",
    "stat, pvalue = stats.ttest_ind(users_df[users_df.exp_group == 1].ctr,\n",
    "                users_df[users_df.exp_group == 2].ctr,\n",
    "                alternative='two-sided',\n",
    "                equal_var=False)\n",
    "print(stat, pvalue)"
   ]
  },
  {
   "cell_type": "markdown",
   "id": "cdc18b96-f203-4cde-8d80-ed1de948f7df",
   "metadata": {},
   "source": [
    "на глаз две выборки совершенно отличаются на глаз, а мы получили что нет статистически значимыз различий и это странно\n",
    "синие распределение очень сильно скошено вправо и вторая мода может считаться очень жирным выбросом, так что сложно относиться к этому результату как вызывающему доверие, надо бы проверить и другими методами"
   ]
  },
  {
   "cell_type": "markdown",
   "id": "a4b80b26-93a0-46c5-af46-29f4afd6b8d4",
   "metadata": {},
   "source": [
    "## Manna - Whitneyu"
   ]
  },
  {
   "cell_type": "code",
   "execution_count": 50,
   "id": "280c18d9-f2f2-4853-8b02-7f7d84c955cf",
   "metadata": {},
   "outputs": [
    {
     "name": "stdout",
     "output_type": "stream",
     "text": [
      "MannwhitneyuResult(statistic=56601260.5, pvalue=6.0376484617779035e-56)\n"
     ]
    }
   ],
   "source": [
    "print(stats.mannwhitneyu(users_df[users_df.exp_group == 1].ctr,\n",
    "                        users_df[users_df.exp_group == 2].ctr))\n"
   ]
  },
  {
   "cell_type": "markdown",
   "id": "d48d66d5-195e-450e-9435-e5fc21827e6f",
   "metadata": {},
   "source": [
    "получается, что есть статистически значимыe различия в двух выборках "
   ]
  },
  {
   "cell_type": "markdown",
   "id": "fdc4b0b4-2797-4190-ad8b-8684ffd5bb3e",
   "metadata": {},
   "source": [
    "## Poisson_bootstraps"
   ]
  },
  {
   "cell_type": "code",
   "execution_count": 51,
   "id": "30713d8b-73bd-49af-9b14-aa0e42b044b0",
   "metadata": {},
   "outputs": [
    {
     "data": {
      "text/plain": [
       "<AxesSubplot:ylabel='Count'>"
      ]
     },
     "execution_count": 51,
     "metadata": {},
     "output_type": "execute_result"
    },
    {
     "data": {
      "image/png": "[encoded data removed]",
      "text/plain": [
       "<Figure size 842.4x595.44 with 1 Axes>"
      ]
     },
     "metadata": {},
     "output_type": "display_data"
    }
   ],
   "source": [
    "def bootstrap(ctr1, ctr2, n_bootstrap=2000):\n",
    "\n",
    "    poisson_bootstraps1 = stats.poisson(1).rvs(\n",
    "        (n_bootstrap, len(ctr1))).astype(np.int64)\n",
    "\n",
    "    poisson_bootstraps2 = stats.poisson(1).rvs(\n",
    "            (n_bootstrap, len(ctr2))).astype(np.int64)\n",
    "    \n",
    "    globalCTR1 = (poisson_bootstraps1*ctr1).sum(axis=1)\n",
    "    \n",
    "    globalCTR2 = (poisson_bootstraps2*ctr2).sum(axis=1)\n",
    "\n",
    "    return globalCTR1, globalCTR2\n",
    "\n",
    "\n",
    "ctr1 = users_df[users_df.exp_group == 1].ctr.to_numpy()\n",
    "ctr2 = users_df[users_df.exp_group == 2].ctr.to_numpy()\n",
    "global_ctr1, global_ctr2 = bootstrap(ctr1,ctr2)\n",
    "\n",
    "# sns.histplot(global_ctr1)\n",
    "# sns.histplot(global_ctr2)\n",
    "\n",
    "\n",
    "#Разница между глобальными CTR\n",
    "sns.histplot(global_ctr1 - global_ctr2)"
   ]
  },
  {
   "cell_type": "code",
   "execution_count": 52,
   "id": "ed9540ab-d0df-4cda-b99f-c721c557b592",
   "metadata": {},
   "outputs": [
    {
     "name": "stdout",
     "output_type": "stream",
     "text": [
      "Median of data-set is : 40.09075384945686 \n"
     ]
    }
   ],
   "source": [
    "import statistics\n",
    "print(\"Median of data-set is : % s \"\n",
    "        % (statistics.median(global_ctr1 - global_ctr2)))"
   ]
  },
  {
   "cell_type": "markdown",
   "id": "5ac60723-b01b-43f4-a782-eaf55890be69",
   "metadata": {},
   "source": [
    "разницая глобальных СТР-ов явно ствинута вправо от нуля"
   ]
  },
  {
   "cell_type": "markdown",
   "id": "67e908a3-2ef2-49c7-a47c-380a704c3938",
   "metadata": {},
   "source": [
    "## Bucketing"
   ]
  },
  {
   "cell_type": "code",
   "execution_count": 62,
   "id": "ddbe476d-57b5-43c1-a6dd-375e10592069",
   "metadata": {},
   "outputs": [
    {
     "name": "stdout",
     "output_type": "stream",
     "text": [
      "MannwhitneyuResult(statistic=1995.0, pvalue=2.859963936492646e-07)\n",
      "Ttest_indResult(statistic=5.668234732053979, pvalue=3.4455951649945907e-07)\n"
     ]
    }
   ],
   "source": [
    "q = \"\"\"\n",
    "SELECT exp_group, bucket,\n",
    "    sum(likes)/sum(views) as bucket_ctr\n",
    "--    ,\n",
    "--    quantileExact(0.9)(ctr) as ctr9\n",
    "FROM (SELECT exp_group, \n",
    "        xxHash64(user_id)%50 as bucket,\n",
    "        user_id,\n",
    "        sum(action = 'like') as likes,\n",
    "        sum(action = 'view') as views,\n",
    "        likes/views as ctr\n",
    "    FROM {db}.feed_actions \n",
    "    WHERE toDate(time) between '2023-01-01' and '2023-01-07'\n",
    "        and exp_group in (1,2)\n",
    "    GROUP BY exp_group, bucket, user_id)\n",
    "GROUP BY exp_group, bucket\n",
    "\"\"\"\n",
    "\n",
    "df = ph.read_clickhouse(q, connection=connection)\n",
    "\n",
    "#тест Манна-Уитни видит отличие\n",
    "print(stats.mannwhitneyu(df[df.exp_group == 1].bucket_ctr, \n",
    "                   df[df.exp_group == 2].bucket_ctr, \n",
    "                   alternative = 'two-sided'))\n",
    "\n",
    "print(stats.ttest_ind(df[df.exp_group == 1].bucket_ctr, \n",
    "                      df[df.exp_group == 2].bucket_ctr, \n",
    "                      alternative = 'two-sided',\n",
    "                      equal_var=False))"
   ]
  },
  {
   "cell_type": "code",
   "execution_count": 63,
   "id": "f644d641-e68b-49b8-b078-3a507fcfd93e",
   "metadata": {},
   "outputs": [],
   "source": [
    "## Сглаженный CTR"
   ]
  },
  {
   "cell_type": "code",
   "execution_count": 68,
   "id": "7e1ae471-e851-4813-9d69-3788f31f65cb",
   "metadata": {},
   "outputs": [
    {
     "name": "stderr",
     "output_type": "stream",
     "text": [
      "/nfs/env/lib/python3.8/site-packages/seaborn/distributions.py:2557: FutureWarning: `distplot` is a deprecated function and will be removed in a future version. Please adapt your code to use either `displot` (a figure-level function with similar flexibility) or `histplot` (an axes-level function for histograms).\n",
      "  warnings.warn(msg, FutureWarning)\n"
     ]
    },
    {
     "data": {
      "text/plain": [
       "<AxesSubplot:xlabel='ctr'>"
      ]
     },
     "execution_count": 68,
     "metadata": {},
     "output_type": "execute_result"
    },
    {
     "data": {
      "image/png": "[encoded data removed]",
      "text/plain": [
       "<Figure size 842.4x595.44 with 1 Axes>"
      ]
     },
     "metadata": {},
     "output_type": "display_data"
    }
   ],
   "source": [
    "def get_smothed_ctr(user_likes, user_views, global_ctr, alpha):\n",
    "    smothed_ctr = (user_likes + alpha * global_ctr) / (user_views + alpha)\n",
    "    return smothed_ctr\n",
    "\n",
    "global_ctr_1 = users_df[users_df.exp_group == 1].likes.sum()/users_df[users_df.exp_group == 1].views.sum()\n",
    "global_ctr_2 = users_df[users_df.exp_group == 2].likes.sum()/users_df[users_df.exp_group == 2].views.sum()\n",
    "\n",
    "group1 = users_df[users_df.exp_group == 1].copy()\n",
    "sns.distplot(group1.ctr, kde = False)"
   ]
  },
  {
   "cell_type": "code",
   "execution_count": 72,
   "id": "b60f66a1-ade0-4166-a219-dc72854db5fb",
   "metadata": {},
   "outputs": [
    {
     "data": {
      "text/plain": [
       "<AxesSubplot:xlabel='smothed_ctr'>"
      ]
     },
     "execution_count": 72,
     "metadata": {},
     "output_type": "execute_result"
    },
    {
     "data": {
      "image/png": "[encoded data removed]",
      "text/plain": [
       "<Figure size 842.4x595.44 with 1 Axes>"
      ]
     },
     "metadata": {},
     "output_type": "display_data"
    }
   ],
   "source": [
    "group1['smothed_ctr'] = users_df.apply(lambda x: get_smothed_ctr(x['likes'], x['views'], global_ctr_1, 5), axis=1)\n",
    "\n",
    "sns.distplot(group1.smothed_ctr,  kde = False)"
   ]
  },
  {
   "cell_type": "code",
   "execution_count": 73,
   "id": "39a5eb3e-54ac-4227-89df-37f6d94458cc",
   "metadata": {},
   "outputs": [
    {
     "data": {
      "text/plain": [
       "<AxesSubplot:xlabel='ctr'>"
      ]
     },
     "execution_count": 73,
     "metadata": {},
     "output_type": "execute_result"
    },
    {
     "data": {
      "image/png": "[encoded data removed]",
      "text/plain": [
       "<Figure size 842.4x595.44 with 1 Axes>"
      ]
     },
     "metadata": {},
     "output_type": "display_data"
    }
   ],
   "source": [
    "group2 = users_df[users_df.exp_group == 2].copy()\n",
    "sns.distplot(group2.ctr, kde = False)"
   ]
  },
  {
   "cell_type": "code",
   "execution_count": 74,
   "id": "a3e6959d-c07b-402b-9b06-462829558a0b",
   "metadata": {},
   "outputs": [
    {
     "data": {
      "text/plain": [
       "<AxesSubplot:xlabel='smothed_ctr'>"
      ]
     },
     "execution_count": 74,
     "metadata": {},
     "output_type": "execute_result"
    },
    {
     "data": {
      "image/png": "[encoded data removed]",
      "text/plain": [
       "<Figure size 842.4x595.44 with 1 Axes>"
      ]
     },
     "metadata": {},
     "output_type": "display_data"
    }
   ],
   "source": [
    "group2['smothed_ctr'] = users_df.apply(lambda x: get_smothed_ctr(x['likes'], x['views'], global_ctr_1, 5), axis=1)\n",
    "\n",
    "sns.distplot(group2.smothed_ctr,  kde = False)"
   ]
  },
  {
   "cell_type": "code",
   "execution_count": 75,
   "id": "85824b89-ba8b-464a-81d3-7ef1c48a6a5f",
   "metadata": {},
   "outputs": [
    {
     "name": "stdout",
     "output_type": "stream",
     "text": [
      "MannwhitneyuResult(statistic=56601260.5, pvalue=6.0376484617779035e-56)\n",
      "MannwhitneyuResult(statistic=56711891.0, pvalue=8.103385180023362e-58)\n",
      "Ttest_indResult(statistic=0.7094392041270486, pvalue=0.4780623130874935)\n",
      "Ttest_indResult(statistic=1.5383624332636343, pvalue=0.12398006885092346)\n"
     ]
    }
   ],
   "source": [
    "#тест Манна-Уитни видит отличие\n",
    "print(stats.mannwhitneyu(group1.ctr, \n",
    "                   group2.ctr,\n",
    "                   alternative = 'two-sided'))\n",
    "print(stats.mannwhitneyu(group1.smothed_ctr, \n",
    "                   group2.smothed_ctr,\n",
    "                   alternative = 'two-sided'))\n",
    "\n",
    "## t-test\n",
    "print(stats.ttest_ind(group1.ctr, \n",
    "                      group2.ctr, \n",
    "                      alternative = 'two-sided',\n",
    "                      equal_var=False))\n",
    "\n",
    "print(stats.ttest_ind(group1.smothed_ctr, \n",
    "                      group2.smothed_ctr, \n",
    "                      alternative = 'two-sided',\n",
    "                      equal_var=False))"
   ]
  },
  {
   "cell_type": "raw",
   "id": "aa89e694-9b8f-417f-aa97-9071e1333ab9",
   "metadata": {},
   "source": [
    "get_bootstrap(\n",
    "    users_df[users_df.exp_group == 1].ctr, # числовые значения первой выборки\n",
    "    users_df[users_df.exp_group == 2].ctr, # числовые значения второй выборки\n",
    "    boot_it = 100, # количество бутстрэп-подвыборок\n",
    "    statistic = np.mean, # интересующая нас статистика\n",
    "    bootstrap_conf_level = 0.95 # уровень значимости\n",
    ")"
   ]
  },
  {
   "cell_type": "markdown",
   "id": "ee5eb207-c424-484d-b369-9d426fe0afef",
   "metadata": {},
   "source": [
    "опять неоднозначный ответ, И сглаживание только слегка сработало\n",
    "хотя и в случае со сглаживанием результат похож на оригинальный с Т и U тестами\n",
    "возможно на результат второй группы повлиял еще какой-то фактор, например какие-то изменения в системе или еще один А/Б тест запущенный в тоже время и не совсем ортогональный нашему. Он мог вызвать такое смещение и жирный выброс в реzультатах CTR "
   ]
  },
  {
   "cell_type": "code",
   "execution_count": null,
   "id": "2c5aa0ec-5b37-48e4-a149-29ffd547a4e5",
   "metadata": {},
   "outputs": [],
   "source": []
  }
 ],
 "metadata": {
  "kernelspec": {
   "display_name": "Python 3 (ipykernel)",
   "language": "python",
   "name": "python3"
  },
  "language_info": {
   "codemirror_mode": {
    "name": "ipython",
    "version": 3
   },
   "file_extension": ".py",
   "mimetype": "text/x-python",
   "name": "python",
   "nbconvert_exporter": "python",
   "pygments_lexer": "ipython3",
   "version": "3.8.10"
  }
 },
 "nbformat": 4,
 "nbformat_minor": 5
}
